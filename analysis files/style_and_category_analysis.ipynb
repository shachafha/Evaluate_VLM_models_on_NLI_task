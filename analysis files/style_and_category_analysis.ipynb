{
 "cells": [
  {
   "cell_type": "code",
   "execution_count": 4,
   "id": "5d3b61ae",
   "metadata": {},
   "outputs": [
    {
     "name": "stdout",
     "output_type": "stream",
     "text": [
      "             style    category  total_count  true_count  percentage_true\n",
      "14      2772519796  functional            7         4.0        57.142857\n",
      "19      3892542136   emotional            4         2.0        50.000000\n",
      "8        449300612  functional            7         3.0        42.857143\n",
      "24           anime    cultural           10         4.0        40.000000\n",
      "11       449300612      social           13         5.0        38.461538\n",
      "6        449300612    cultural            8         3.0        37.500000\n",
      "33       paper cut     logical           14         5.0        35.714286\n",
      "3              171     logical           16         5.0        31.250000\n",
      "48        sketched   emotional           10         3.0        30.000000\n",
      "21      3892542136     logical           16         4.0        25.000000\n",
      "7        449300612   emotional            4         1.0        25.000000\n",
      "22      3892542136    physical           12         3.0        25.000000\n",
      "1              171   emotional            4         1.0        25.000000\n",
      "13      2772519796   emotional            4         1.0        25.000000\n",
      "17      2772519796      social           13         3.0        23.076923\n",
      "27           anime     logical           14         3.0        21.428571\n",
      "34       paper cut    physical           10         2.0        20.000000\n",
      "52        sketched      social           10         2.0        20.000000\n",
      "31       paper cut   emotional           10         2.0        20.000000\n",
      "49        sketched  functional           10         2.0        20.000000\n",
      "50        sketched     logical           15         3.0        20.000000\n",
      "51        sketched    physical           10         2.0        20.000000\n",
      "25           anime   emotional           10         2.0        20.000000\n",
      "4              171    physical           12         2.0        16.666667\n",
      "5              171      social           13         2.0        15.384615\n",
      "20      3892542136  functional            7         1.0        14.285714\n",
      "15      2772519796     logical           16         2.0        12.500000\n",
      "12      2772519796    cultural            8         1.0        12.500000\n",
      "35       paper cut      social           10         1.0        10.000000\n",
      "47        sketched    cultural           10         1.0        10.000000\n",
      "32       paper cut  functional           10         1.0        10.000000\n",
      "26           anime  functional           10         1.0        10.000000\n",
      "30       paper cut    cultural           10         1.0        10.000000\n",
      "29           anime      social           10         1.0        10.000000\n",
      "41  photorealistic    cultural           44         4.0         9.090909\n",
      "10       449300612    physical           12         1.0         8.333333\n",
      "16      2772519796    physical           12         1.0         8.333333\n",
      "23      3892542136      social           13         1.0         7.692308\n",
      "9        449300612     logical           16         1.0         6.250000\n",
      "45  photorealistic    physical           40         2.0         5.000000\n",
      "44  photorealistic     logical           65         1.0         1.538462\n",
      "2              171  functional            7         0.0         0.000000\n",
      "18      3892542136    cultural            8         0.0         0.000000\n",
      "46  photorealistic      social           42         0.0         0.000000\n",
      "42  photorealistic   emotional           21         0.0         0.000000\n",
      "43  photorealistic  functional           22         0.0         0.000000\n",
      "40    photographed      social            3         0.0         0.000000\n",
      "39    photographed    physical            2         0.0         0.000000\n",
      "38    photographed     logical            7         0.0         0.000000\n",
      "37    photographed  functional            3         0.0         0.000000\n",
      "36    photographed   emotional            2         0.0         0.000000\n",
      "28           anime    physical           10         0.0         0.000000\n",
      "0              171    cultural            8         0.0         0.000000\n"
     ]
    }
   ],
   "source": [
    "import pandas as pd\n",
    "\n",
    "# Load your Excel file\n",
    "df = pd.read_excel('openbmb_MiniCPM-Llama3-V-2_5-int4_analysis.xlsx', sheet_name=0)\n",
    "\n",
    "\n",
    "# Calculate the total number of rows for each combination of 'style' and 'category'\n",
    "total_counts = df.groupby(['style', 'category']).size().reset_index(name='total_count')\n",
    "\n",
    "# Calculate the number of 'TRUE' values for each combination of 'style' and 'category'\n",
    "true_counts = df[df['joint_correct'] == True].groupby(['style', 'category']).size().reset_index(name='true_count')\n",
    "\n",
    "# Merge the two DataFrames to get both counts together\n",
    "merged_df = pd.merge(total_counts, true_counts, on=['style', 'category'], how='left').fillna(0)\n",
    "\n",
    "# Calculate the percentage of 'TRUE' values\n",
    "merged_df['percentage_true'] = (merged_df['true_count'] / merged_df['total_count']) * 100\n",
    "\n",
    "# Sort by 'percentage_true' in descending order\n",
    "sorted_df = merged_df.sort_values(by='percentage_true', ascending=False)\n",
    "\n",
    "print(sorted_df)\n",
    "\n",
    "\n"
   ]
  },
  {
   "cell_type": "code",
   "execution_count": null,
   "id": "b43afabd",
   "metadata": {},
   "outputs": [],
   "source": []
  }
 ],
 "metadata": {
  "kernelspec": {
   "display_name": "Python 3 (ipykernel)",
   "language": "python",
   "name": "python3"
  },
  "language_info": {
   "codemirror_mode": {
    "name": "ipython",
    "version": 3
   },
   "file_extension": ".py",
   "mimetype": "text/x-python",
   "name": "python",
   "nbconvert_exporter": "python",
   "pygments_lexer": "ipython3",
   "version": "3.8.0"
  }
 },
 "nbformat": 4,
 "nbformat_minor": 5
}
