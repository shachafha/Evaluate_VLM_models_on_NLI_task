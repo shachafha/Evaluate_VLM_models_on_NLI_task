{
 "cells": [
  {
   "cell_type": "code",
   "execution_count": 29,
   "id": "a60e0a15",
   "metadata": {},
   "outputs": [],
   "source": [
    "import pandas as pd\n"
   ]
  },
  {
   "cell_type": "code",
   "execution_count": 70,
   "id": "42285982",
   "metadata": {},
   "outputs": [],
   "source": [
    "df = pd.read_csv('addons vlm.csv')"
   ]
  },
  {
   "cell_type": "markdown",
   "id": "735edd8b",
   "metadata": {},
   "source": [
    "# ERROR"
   ]
  },
  {
   "cell_type": "code",
   "execution_count": 71,
   "id": "539262d8",
   "metadata": {},
   "outputs": [],
   "source": [
    "styles = [\n",
    "    \"detailed hand-drawn sketch using Prismacolor Premier colored pencils\",\n",
    "    \"japanese anime\",\n",
    "    \"paper cut craft illustration\",\n",
    "    \"captured with a Nikon D850 and a 24-70mm lens at f/2.8\"\n",
    "]\n",
    "\n",
    "mapper = {\"detailed hand-drawn sketch using Prismacolor Premier colored pencils\":\"sketched\",\n",
    "          \"japanese anime\":\"anime\",\n",
    "          \"paper cut craft illustration\":\"paper cut\",\n",
    "         \"captured with a Nikon D850 and a 24-70mm lens at f/2.8\":\"camera\"}\n",
    "for i,style in enumerate(styles):\n",
    "    # Add new columns\n",
    "    df['style_1'] = \"/imagine setting: \" + df['first_image_caption'] + \" environment: \" + df['environment'] + \" style: \" + styles[i]\n",
    "    df['style_2'] = \"/imagine setting: \" + df['plausible_second_image_caption'] + \" environment: \" + df['environment'] + \" style: \" + styles[i] + \" --cref <> --cw 80\"\n",
    "    df['style_3'] = \"/imagine setting: \" + df['implausible_second_image_caption'] + \" environment: \" + df['environment'] + \" style: \" + styles[i] + \" --cref <> --cw 80\"\n",
    "    \n",
    "\n",
    "    # Combine into one column\n",
    "    df[mapper[style]] = df['style_1'] + \"\\n\" + df['style_2'] + \"\\n\" + df['style_3']\n"
   ]
  },
  {
   "cell_type": "code",
   "execution_count": 74,
   "id": "26fd12de",
   "metadata": {
    "scrolled": false
   },
   "outputs": [
    {
     "name": "stdout",
     "output_type": "stream",
     "text": [
      "99 :\n",
      "/imagine setting: a group of children collects firewood. environment: nature style: detailed hand-drawn sketch using Prismacolor Premier colored pencils\n",
      "/imagine setting: a group of children sits around a campfire. environment: nature style: detailed hand-drawn sketch using Prismacolor Premier colored pencils --cref <> --cw 80\n",
      "/imagine setting: a group of children builds a wooden robot. environment: nature style: detailed hand-drawn sketch using Prismacolor Premier colored pencils --cref <> --cw 80\n",
      "\n",
      "149 :\n",
      "/imagine setting: a woman opening a bottle of wine while cooking environment: kitchen style: detailed hand-drawn sketch using Prismacolor Premier colored pencils\n",
      "/imagine setting: a pot with ground meat on the stove environment: kitchen style: detailed hand-drawn sketch using Prismacolor Premier colored pencils --cref <> --cw 80\n",
      "/imagine setting: a pot with pasta on the stove environment: kitchen style: detailed hand-drawn sketch using Prismacolor Premier colored pencils --cref <> --cw 80\n",
      "\n",
      "172 :\n",
      "/imagine setting: a person in a wheelchair drinking water environment: healthcare style: detailed hand-drawn sketch using Prismacolor Premier colored pencils\n",
      "/imagine setting: a restroom with a symbol for a wheelchair-accessible stall environment: healthcare style: detailed hand-drawn sketch using Prismacolor Premier colored pencils --cref <> --cw 80\n",
      "/imagine setting: a regular restroom stall environment: healthcare style: detailed hand-drawn sketch using Prismacolor Premier colored pencils --cref <> --cw 80\n",
      "\n",
      "184 :\n",
      "/imagine setting: a calendar filled with appointments notes environment: office style: detailed hand-drawn sketch using Prismacolor Premier colored pencils\n",
      "/imagine setting: a businesswoman sitting in a meeting environment: office style: detailed hand-drawn sketch using Prismacolor Premier colored pencils --cref <> --cw 80\n",
      "/imagine setting: a businesswoman sitting on a comfortable chair by the pool environment: office style: detailed hand-drawn sketch using Prismacolor Premier colored pencils --cref <> --cw 80\n",
      "\n",
      "248 :\n",
      "/imagine setting: a \"dangerous and biting dog\" sign on a house fence environment: outdoor style: detailed hand-drawn sketch using Prismacolor Premier colored pencils\n",
      "/imagine setting: a large and aggressive dog in the house yard environment: outdoor style: detailed hand-drawn sketch using Prismacolor Premier colored pencils --cref <> --cw 80\n",
      "/imagine setting: a small and cute chihuahua in the house yard environment: outdoor style: detailed hand-drawn sketch using Prismacolor Premier colored pencils --cref <> --cw 80\n",
      "\n",
      "320 :\n",
      "/imagine setting: The woman is wearing a traditional Kimono environment: indoor style: detailed hand-drawn sketch using Prismacolor Premier colored pencils\n",
      "/imagine setting: The woman is participating in a tea ceremony environment: indoor style: detailed hand-drawn sketch using Prismacolor Premier colored pencils --cref <> --cw 80\n",
      "/imagine setting: The woman is shopping in a modern mall environment: indoor style: detailed hand-drawn sketch using Prismacolor Premier colored pencils --cref <> --cw 80\n",
      "\n",
      "345 :\n",
      "/imagine setting: A stake is served in a restaurant environment: outdoor style: detailed hand-drawn sketch using Prismacolor Premier colored pencils\n",
      "/imagine setting: The waitress is American environment: outdoor style: detailed hand-drawn sketch using Prismacolor Premier colored pencils --cref <> --cw 80\n",
      "/imagine setting: The waitress is Indian with tika environment: outdoor style: detailed hand-drawn sketch using Prismacolor Premier colored pencils --cref <> --cw 80\n",
      "\n",
      "344 :\n",
      "/imagine setting: A spider in Japanese living room environment: outdoor style: detailed hand-drawn sketch using Prismacolor Premier colored pencils\n",
      "/imagine setting: A man is happy in Japanese room environment: outdoor style: detailed hand-drawn sketch using Prismacolor Premier colored pencils --cref <> --cw 80\n",
      "/imagine setting: A man is sad in the Japanese room environment: outdoor style: detailed hand-drawn sketch using Prismacolor Premier colored pencils --cref <> --cw 80\n",
      "\n"
     ]
    }
   ],
   "source": [
    "for index, row in df.iterrows():\n",
    "    if row['sample_id'] not in [5,9,25,29,31,42,43,57,77,81,82,89,95,175,222,301,305,307,325,355, 356,360]:\n",
    "        print(f\"{row['sample_id']} :\\n{row['sketched']}\\n\")\n"
   ]
  },
  {
   "cell_type": "code",
   "execution_count": null,
   "id": "a314d659",
   "metadata": {},
   "outputs": [],
   "source": []
  }
 ],
 "metadata": {
  "kernelspec": {
   "display_name": "Python 3 (ipykernel)",
   "language": "python",
   "name": "python3"
  },
  "language_info": {
   "codemirror_mode": {
    "name": "ipython",
    "version": 3
   },
   "file_extension": ".py",
   "mimetype": "text/x-python",
   "name": "python",
   "nbconvert_exporter": "python",
   "pygments_lexer": "ipython3",
   "version": "3.8.0"
  }
 },
 "nbformat": 4,
 "nbformat_minor": 5
}
