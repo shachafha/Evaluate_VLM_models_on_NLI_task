{
 "cells": [
  {
   "cell_type": "code",
   "execution_count": 132,
   "id": "initial_id",
   "metadata": {
    "collapsed": true,
    "ExecuteTime": {
     "end_time": "2024-08-19T06:23:01.565690Z",
     "start_time": "2024-08-19T06:23:01.482043Z"
    }
   },
   "outputs": [
    {
     "data": {
      "text/plain": "   sample_id             dataset           style final_answer  \\\n0          1         Mor dataset  photorealistic        right   \n1          1  other team dataset             171        right   \n2          1  other team dataset      2772519796        right   \n3          1  other team dataset      3892542136        right   \n4          1  other team dataset       449300612        right   \n\n  final_answer_reversed   category      domain time_direction temporal_term  \\\n0                 right  emotional  healthcare        forward         short   \n1                 right  emotional  healthcare        forward         short   \n2                 right  emotional  healthcare        forward         short   \n3                 right  emotional  healthcare        forward         short   \n4                 right  emotional  healthcare        forward         short   \n\n  difficulty_level interacting_component_1 interacting_component_2 environment  \n0             easy            little child                 vaccine  nurse room  \n1             easy            little child                 vaccine  nurse room  \n2             easy            little child                 vaccine  nurse room  \n3             easy            little child                 vaccine  nurse room  \n4             easy            little child                 vaccine  nurse room  ",
      "text/html": "<div>\n<style scoped>\n    .dataframe tbody tr th:only-of-type {\n        vertical-align: middle;\n    }\n\n    .dataframe tbody tr th {\n        vertical-align: top;\n    }\n\n    .dataframe thead th {\n        text-align: right;\n    }\n</style>\n<table border=\"1\" class=\"dataframe\">\n  <thead>\n    <tr style=\"text-align: right;\">\n      <th></th>\n      <th>sample_id</th>\n      <th>dataset</th>\n      <th>style</th>\n      <th>final_answer</th>\n      <th>final_answer_reversed</th>\n      <th>category</th>\n      <th>domain</th>\n      <th>time_direction</th>\n      <th>temporal_term</th>\n      <th>difficulty_level</th>\n      <th>interacting_component_1</th>\n      <th>interacting_component_2</th>\n      <th>environment</th>\n    </tr>\n  </thead>\n  <tbody>\n    <tr>\n      <th>0</th>\n      <td>1</td>\n      <td>Mor dataset</td>\n      <td>photorealistic</td>\n      <td>right</td>\n      <td>right</td>\n      <td>emotional</td>\n      <td>healthcare</td>\n      <td>forward</td>\n      <td>short</td>\n      <td>easy</td>\n      <td>little child</td>\n      <td>vaccine</td>\n      <td>nurse room</td>\n    </tr>\n    <tr>\n      <th>1</th>\n      <td>1</td>\n      <td>other team dataset</td>\n      <td>171</td>\n      <td>right</td>\n      <td>right</td>\n      <td>emotional</td>\n      <td>healthcare</td>\n      <td>forward</td>\n      <td>short</td>\n      <td>easy</td>\n      <td>little child</td>\n      <td>vaccine</td>\n      <td>nurse room</td>\n    </tr>\n    <tr>\n      <th>2</th>\n      <td>1</td>\n      <td>other team dataset</td>\n      <td>2772519796</td>\n      <td>right</td>\n      <td>right</td>\n      <td>emotional</td>\n      <td>healthcare</td>\n      <td>forward</td>\n      <td>short</td>\n      <td>easy</td>\n      <td>little child</td>\n      <td>vaccine</td>\n      <td>nurse room</td>\n    </tr>\n    <tr>\n      <th>3</th>\n      <td>1</td>\n      <td>other team dataset</td>\n      <td>3892542136</td>\n      <td>right</td>\n      <td>right</td>\n      <td>emotional</td>\n      <td>healthcare</td>\n      <td>forward</td>\n      <td>short</td>\n      <td>easy</td>\n      <td>little child</td>\n      <td>vaccine</td>\n      <td>nurse room</td>\n    </tr>\n    <tr>\n      <th>4</th>\n      <td>1</td>\n      <td>other team dataset</td>\n      <td>449300612</td>\n      <td>right</td>\n      <td>right</td>\n      <td>emotional</td>\n      <td>healthcare</td>\n      <td>forward</td>\n      <td>short</td>\n      <td>easy</td>\n      <td>little child</td>\n      <td>vaccine</td>\n      <td>nurse room</td>\n    </tr>\n  </tbody>\n</table>\n</div>"
     },
     "execution_count": 132,
     "metadata": {},
     "output_type": "execute_result"
    }
   ],
   "source": [
    "# data set eith columns folder,dataset,style,result,result_reversed\n",
    "# do analysis of the accuracy based on the results\n",
    "# if result is 'middle' then it is true if the result_reversed is 'right' then it is true\n",
    "import pandas as pd\n",
    "textual_data = pd.read_csv('NL_Eye_final_bench (2).csv')\n",
    "# read xlsx\n",
    "# df = pd.read_excel('openbmb_MiniCPM-Llama3-V-2_5-int4_result_all1.xlsx')\n",
    "df = pd.read_csv('google_paligemma-3b-mix-224_result_all.csv')\n",
    "df = df.merge(textual_data, on=\"sample_id\")\n",
    "df.head()"
   ]
  },
  {
   "cell_type": "code",
   "outputs": [],
   "source": [
    "# show accuricies in percentage\n",
    "\n",
    "# Add correctness indicators\n",
    "df[\"correct_final_answer\"] = df[\"final_answer\"].astype(str) == 'middle'\n",
    "df[\"correct_final_answer_reversed\"] = df[\"final_answer_reversed\"].astype(str) == 'right' \n",
    "\n",
    "final_answer_accuracy = df[\"correct_final_answer\"].mean()\n",
    "final_answer_reversed_accuracy = df[\"correct_final_answer_reversed\"].mean()\n",
    "\n",
    "# Joint Accuracy Analysis\n",
    "df[\"joint_correct\"] = df[\"correct_final_answer\"] & df[\"correct_final_answer_reversed\"]\n",
    "accuracy_by_style = df.groupby(\"style\")[[\"correct_final_answer\", \"correct_final_answer_reversed\"]].mean()\n",
    "accuracy_by_style[\"joint_accuracy\"] = df.groupby(\"style\")[\"joint_correct\"].mean()\n",
    "\n",
    "accuracy_by_dataset = df.groupby(\"dataset\")[[\"correct_final_answer\", \"correct_final_answer_reversed\"]].mean()\n",
    "accuracy_by_dataset[\"joint_accuracy\"] = df.groupby(\"dataset\")[\"joint_correct\"].mean()\n",
    "\n",
    "accuracy_by_category = df.groupby(\"category\")[[\"correct_final_answer\", \"correct_final_answer_reversed\"]].mean()\n",
    "accuracy_by_category[\"joint_accuracy\"] = df.groupby(\"category\")[\"joint_correct\"].mean()\n",
    "\n",
    "accuracy_by_domain = df.groupby(\"domain\")[[\"correct_final_answer\", \"correct_final_answer_reversed\"]].mean()\n",
    "accuracy_by_domain[\"joint_accuracy\"] = df.groupby(\"domain\")[\"joint_correct\"].mean()\n",
    "\n",
    "accuracy_by_temporal_term = df.groupby(\"temporal_term\")[[\"correct_final_answer\", \"correct_final_answer_reversed\"]].mean()\n",
    "accuracy_by_temporal_term[\"joint_accuracy\"] = df.groupby(\"temporal_term\")[\"joint_correct\"].mean()"
   ],
   "metadata": {
    "collapsed": false,
    "ExecuteTime": {
     "end_time": "2024-08-19T06:23:09.548741Z",
     "start_time": "2024-08-19T06:23:09.506060Z"
    }
   },
   "id": "191aa6ab79eb3a5d",
   "execution_count": 133
  },
  {
   "cell_type": "code",
   "outputs": [
    {
     "name": "stdout",
     "output_type": "stream",
     "text": [
      "Final Answer Accuracy: 31.73%\n",
      "Final Answer Reversed Accuracy: 69.30%\n",
      "Joint Accuracy: 13.60%\n",
      "                correct_final_answer  correct_final_answer_reversed  \\\n",
      "style                                                                 \n",
      "171                         0.316667                       0.733333   \n",
      "2772519796                  0.283333                       0.750000   \n",
      "3892542136                  0.283333                       0.683333   \n",
      "449300612                   0.366667                       0.633333   \n",
      "anime                       0.468750                       0.562500   \n",
      "paper cut                   0.421875                       0.531250   \n",
      "photographed                0.117647                       0.882353   \n",
      "photorealistic              0.264957                       0.739316   \n",
      "sketched                    0.323077                       0.738462   \n",
      "\n",
      "                joint_accuracy  \n",
      "style                           \n",
      "171                   0.233333  \n",
      "2772519796            0.183333  \n",
      "3892542136            0.100000  \n",
      "449300612             0.150000  \n",
      "anime                 0.125000  \n",
      "paper cut             0.093750  \n",
      "photographed          0.117647  \n",
      "photorealistic        0.115385  \n",
      "sketched              0.153846  \n",
      "                    correct_final_answer  correct_final_answer_reversed  \\\n",
      "dataset                                                                   \n",
      "Mor dataset                     0.262222                       0.742222   \n",
      "VLM image dataset               0.380734                       0.633028   \n",
      "other team dataset              0.311203                       0.701245   \n",
      "\n",
      "                    joint_accuracy  \n",
      "dataset                             \n",
      "Mor dataset               0.115556  \n",
      "VLM image dataset         0.123853  \n",
      "other team dataset        0.165975  \n",
      "            correct_final_answer  correct_final_answer_reversed  \\\n",
      "category                                                          \n",
      "cultural                0.245283                       0.716981   \n",
      "emotional               0.376812                       0.550725   \n",
      "functional              0.373494                       0.626506   \n",
      "logical                 0.268156                       0.754190   \n",
      "physical                0.383333                       0.658333   \n",
      "social                  0.314961                       0.740157   \n",
      "\n",
      "            joint_accuracy  \n",
      "category                    \n",
      "cultural          0.066038  \n",
      "emotional         0.072464  \n",
      "functional        0.168675  \n",
      "logical           0.145251  \n",
      "physical          0.183333  \n",
      "social            0.149606  \n",
      "                          correct_final_answer  correct_final_answer_reversed  \\\n",
      "domain                                                                          \n",
      "administration                        0.272727                       0.681818   \n",
      "business & work                       0.375000                       0.625000   \n",
      "daily life & hospitality              0.325373                       0.671642   \n",
      "education                             0.333333                       0.694444   \n",
      "healthcare                            0.294872                       0.692308   \n",
      "religion                              0.241379                       0.793103   \n",
      "science & technology                  0.289474                       0.815789   \n",
      "sports & arts                         0.354430                       0.708861   \n",
      "transportation                        0.257143                       0.714286   \n",
      "\n",
      "                          joint_accuracy  \n",
      "domain                                    \n",
      "administration                  0.136364  \n",
      "business & work                 0.125000  \n",
      "daily life & hospitality        0.125373  \n",
      "education                       0.166667  \n",
      "healthcare                      0.115385  \n",
      "religion                        0.103448  \n",
      "science & technology            0.184211  \n",
      "sports & arts                   0.189873  \n",
      "transportation                  0.114286  \n",
      "               correct_final_answer  correct_final_answer_reversed  \\\n",
      "temporal_term                                                        \n",
      "long                       0.241379                       0.836207   \n",
      "short                      0.332746                       0.663732   \n",
      "\n",
      "               joint_accuracy  \n",
      "temporal_term                  \n",
      "long                 0.129310  \n",
      "short                0.137324  \n"
     ]
    }
   ],
   "source": [
    "# Show the results\n",
    "print(f\"Final Answer Accuracy: {final_answer_accuracy:.2%}\")\n",
    "print(f\"Final Answer Reversed Accuracy: {final_answer_reversed_accuracy:.2%}\")\n",
    "print(f\"Joint Accuracy: {df['joint_correct'].mean():.2%}\")\n",
    "print(accuracy_by_style)\n",
    "print(accuracy_by_dataset)\n",
    "print(accuracy_by_category)\n",
    "print(accuracy_by_domain)\n",
    "print(accuracy_by_temporal_term)"
   ],
   "metadata": {
    "collapsed": false,
    "ExecuteTime": {
     "end_time": "2024-08-19T06:23:11.068427Z",
     "start_time": "2024-08-19T06:23:11.044595Z"
    }
   },
   "id": "ccded7c97df83df1",
   "execution_count": 134
  },
  {
   "cell_type": "code",
   "outputs": [],
   "source": [
    "#save the results to one excel file\n",
    "with pd.ExcelWriter('google_paligemma-3b-mix-224_analysis.xlsx') as writer:\n",
    "    df.to_excel(writer, sheet_name='data')\n",
    "    # first sheet with the overall results\n",
    "    pd.DataFrame({\n",
    "        \"Final Answer Accuracy\": [final_answer_accuracy],\n",
    "        \"Final Answer Reversed Accuracy\": [final_answer_reversed_accuracy],\n",
    "        \"Joint Accuracy\": [df['joint_correct'].mean()]\n",
    "    }).to_excel(writer, sheet_name='overall_results')\n",
    "    accuracy_by_style.to_excel(writer, sheet_name='accuracy_by_style')\n",
    "    accuracy_by_dataset.to_excel(writer, sheet_name='accuracy_by_dataset')\n",
    "    accuracy_by_category.to_excel(writer, sheet_name='accuracy_by_category')\n",
    "    accuracy_by_domain.to_excel(writer, sheet_name='accuracy_by_domain')\n",
    "    accuracy_by_temporal_term.to_excel(writer, sheet_name='accuracy_by_temporal_term')"
   ],
   "metadata": {
    "collapsed": false,
    "ExecuteTime": {
     "end_time": "2024-08-19T06:23:20.853611Z",
     "start_time": "2024-08-19T06:23:20.312018Z"
    }
   },
   "id": "83fc97f3c5e9c7ca",
   "execution_count": 135
  },
  {
   "cell_type": "code",
   "outputs": [],
   "source": [],
   "metadata": {
    "collapsed": false
   },
   "id": "2309d625a769c4dd"
  }
 ],
 "metadata": {
  "kernelspec": {
   "display_name": "Python 3",
   "language": "python",
   "name": "python3"
  },
  "language_info": {
   "codemirror_mode": {
    "name": "ipython",
    "version": 2
   },
   "file_extension": ".py",
   "mimetype": "text/x-python",
   "name": "python",
   "nbconvert_exporter": "python",
   "pygments_lexer": "ipython2",
   "version": "2.7.6"
  }
 },
 "nbformat": 4,
 "nbformat_minor": 5
}
